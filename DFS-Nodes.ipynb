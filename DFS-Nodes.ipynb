{
 "cells": [
  {
   "cell_type": "markdown",
   "metadata": {},
   "source": [
    "<h2><center>DFS-Nodes Problem</center></h2>"
   ]
  },
  {
   "cell_type": "markdown",
   "metadata": {},
   "source": [
    "In an effort to connect all airports with minimal costs, an airport authority needs to identify the minimum number of new flight connections so that it is possible to reach all airports from every other airport directly or indirectly. Airports and flight connections are represented by a matrix. Airports are represented by numbers 0, 1, 2, and so on. So, if airport 'O' is connected via a flight with airport '1' then elements [O][1] and [1][0] will have the value True, or False if there is no flight connectivity. All flights are bi-directional. The function get_minimum_connections accepts a two-dimensional array matrix. The function should return the minimum number of flight connections that need to be added so that all airports are reachable from every other airport, directly or indirectly. "
   ]
  },
  {
   "cell_type": "markdown",
   "metadata": {},
   "source": [
    "<h3>Method 1</h3>"
   ]
  },
  {
   "cell_type": "code",
   "execution_count": 1,
   "metadata": {},
   "outputs": [],
   "source": [
    "N = 5010\n",
    "g = [[] for i in range(N)]"
   ]
  },
  {
   "cell_type": "code",
   "execution_count": 2,
   "metadata": {
    "code_folding": []
   },
   "outputs": [],
   "source": [
    "# To check if the vertex has been visited or not\n",
    "vis = [False for i in range(N)]\n",
    "\n",
    "# To store if vertex is reachable from source or not\n",
    "good = [False for i in range(N)]\n",
    "\n",
    "def ADD_EDGE(u, v):\n",
    "\n",
    "    g[u].append(v)"
   ]
  },
  {
   "cell_type": "code",
   "execution_count": 3,
   "metadata": {},
   "outputs": [],
   "source": [
    "# Function to find all good vertices\n",
    "def dfs1(v):\n",
    "\n",
    "    good[v] = True\n",
    "    for to in g[v]:\n",
    "        if not good[to]:\n",
    "            dfs1(to)"
   ]
  },
  {
   "cell_type": "code",
   "execution_count": 4,
   "metadata": {},
   "outputs": [],
   "source": [
    "# Function to find cnt of all unreachable vertices\n",
    "def dfs2(v):\n",
    "\n",
    "    global cnt\n",
    "    vis[v] = True\n",
    "    cnt += 1\n",
    "    for to in g[v]:\n",
    "        if not vis[to] and not good[to]:\n",
    "            dfs2(to)\n",
    "\n",
    "# Function to return the minimum edges required\n",
    "def get_minimum_connections():\n",
    "\n",
    "    global vis, cnt\n",
    "\n",
    "    # Find all vertices reachable\n",
    "    # from the source\n",
    "    dfs1(x)\n",
    "\n",
    "    # To store all vertices\n",
    "    # with their cnt value\n",
    "    val = []\n",
    "\n",
    "    for i in range(0, n):\n",
    "\n",
    "        # If vertex is bad i.e. not reachable\n",
    "        if not good[i]:\n",
    "            cnt = 0\n",
    "            vis = [False for i in range(N)]\n",
    "\n",
    "            # Find cnt of this vertex\n",
    "            dfs2(i)\n",
    "            val.append((cnt, i))\n",
    "\n",
    "    # Sort all unreachable vertices\n",
    "    # in non-decreasing order of\n",
    "    # their cnt values\n",
    "    val.sort(reverse = True)\n",
    "\n",
    "    # Find the minimum number of edges\n",
    "    # needed to be added\n",
    "    ans = 0\n",
    "    for it in val:\n",
    "        if not good[it[1]]:\n",
    "            ans += 1\n",
    "            dfs1(it[1])\n",
    "\n",
    "    return ans\n"
   ]
  },
  {
   "cell_type": "code",
   "execution_count": 5,
   "metadata": {},
   "outputs": [
    {
     "name": "stdout",
     "output_type": "stream",
     "text": [
      "1\n"
     ]
    }
   ],
   "source": [
    "# Driver code\n",
    "if __name__ == \"__main__\":\n",
    "\n",
    "    # Number of nodes and source node\n",
    "    n, x = 5, 0\n",
    "\n",
    "    # Add edges to the graph\n",
    "    ADD_EDGE(0, 1)\n",
    "    ADD_EDGE(0, 4)\n",
    "    ADD_EDGE(2, 3)\n",
    "\n",
    "    print(get_minimum_connections())"
   ]
  },
  {
   "cell_type": "markdown",
   "metadata": {},
   "source": [
    "<h3>Method 2</h3>"
   ]
  },
  {
   "cell_type": "markdown",
   "metadata": {},
   "source": [
    "![DiD](https://media.cheggcdn.com/media/942/9429d51b-5546-404a-86ed-8ac6e9d6f472/php8XkcaD)"
   ]
  },
  {
   "cell_type": "code",
   "execution_count": 7,
   "metadata": {},
   "outputs": [],
   "source": [
    "# define the function to get the minimum connections\n",
    "def get_minimum_connections(matrix):\n",
    "    \n",
    "    n = len(matrix)\n",
    "    n_needed= n-1\n",
    "\n",
    "    cnt = 0\n",
    "    for i in range(0,n):\n",
    "      cnt = cnt + sum(matrix[i])\n",
    "    n_present = cnt/2\n",
    "    n_addition = n_needed - n_present\n",
    "\n",
    "    return n_addition"
   ]
  },
  {
   "cell_type": "code",
   "execution_count": 8,
   "metadata": {},
   "outputs": [],
   "source": [
    "# write out the matrix\n",
    "matrix = \\\n",
    "    [ \n",
    "        [False, True, False, False, True], \n",
    "        [True, False, False, False, False], \n",
    "        [False, False, False, True, False], \n",
    "        [False, False, True, False, False], \n",
    "        [True, False, False, False, False] \n",
    "    ]"
   ]
  },
  {
   "cell_type": "code",
   "execution_count": 9,
   "metadata": {},
   "outputs": [
    {
     "name": "stdout",
     "output_type": "stream",
     "text": [
      "1.0\n"
     ]
    }
   ],
   "source": [
    "# get the minimum additional connection\n",
    "print(get_minimum_connections(matrix))"
   ]
  }
 ],
 "metadata": {
  "kernelspec": {
   "display_name": "Python 3",
   "language": "python",
   "name": "python3"
  },
  "language_info": {
   "codemirror_mode": {
    "name": "ipython",
    "version": 3
   },
   "file_extension": ".py",
   "mimetype": "text/x-python",
   "name": "python",
   "nbconvert_exporter": "python",
   "pygments_lexer": "ipython3",
   "version": "3.7.6"
  },
  "varInspector": {
   "cols": {
    "lenName": 16,
    "lenType": 16,
    "lenVar": 40
   },
   "kernels_config": {
    "python": {
     "delete_cmd_postfix": "",
     "delete_cmd_prefix": "del ",
     "library": "var_list.py",
     "varRefreshCmd": "print(var_dic_list())"
    },
    "r": {
     "delete_cmd_postfix": ") ",
     "delete_cmd_prefix": "rm(",
     "library": "var_list.r",
     "varRefreshCmd": "cat(var_dic_list()) "
    }
   },
   "types_to_exclude": [
    "module",
    "function",
    "builtin_function_or_method",
    "instance",
    "_Feature"
   ],
   "window_display": false
  }
 },
 "nbformat": 4,
 "nbformat_minor": 4
}
