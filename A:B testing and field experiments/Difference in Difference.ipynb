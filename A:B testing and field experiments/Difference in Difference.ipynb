{
 "cells": [
  {
   "cell_type": "markdown",
   "metadata": {},
   "source": [
    "<h2><center>Identify Causality by Difference in Differences</center></h2>"
   ]
  },
  {
   "cell_type": "markdown",
   "metadata": {},
   "source": [
    "<h3>Why Do We Need DiD</h3>\n",
    "https://medium.com/dataman-in-ai/identify-causality-by-difference-in-differences-78ad8335fb7c\n",
    "\n",
    "You may be asked to show the causal relationship between two measures. You first attempt may be to set up a randomized controlled trials: a treatment group, a controlled group and test. But wait! There are many reasons that randomized Controlled Trials (RCT) are not feasible. For example, it is impossible to set up a treatment-and-control experiment for a historical event. What can we do?\n",
    "\n",
    "The Difference-in-Differences will be a good choice. Instead of trying to design an impossible randomized controlled experiment, we need to change our approach. The past historical events can be viewed as rich collections of natural experiments, in which nature does the randomization for us. We can try to find the “natural experiment” to identify the impact of a policy. For example. An unexpected change in policy could be seen as “natural experiment”. In natural experiments, we need to identify which is the group affected by the policy change (“treatment”) and which is the group that is not affected (“control”). An appropriate setting for the control group will determine the quality of the evaluation.\n",
    "\n",
    "The DiD design is a kind of a quasi-experimental design. The word quasi means seemingly, apparently but not really. A quasi-experiment design is similar to a randomized controlled trials but without the random assignments by the researcher (Cook & Campbell, 1979). In the “identify causality” series of articles, I present econometric techniques that identify causality. These articles cover the following techniques:\n",
    "\n",
    "* Regression Discontinuity (see “Identify Causality by Regression Discontinuity”),\n",
    "\n",
    "* Difference in differences (DiD)(see “Identify Causality by Difference in Differences”),\n",
    "\n",
    "* Fixed-Effects Models (See “Identify Causality by Fixed-Effects Models”),\n",
    "\n",
    "* Randomized Controlled Trial with Factorial Design (see “Design of Experiments for Your Change Management”).\n",
    "\n",
    "In each article I present the applications in various fields so you see the formation of their problems. I then offer best practices, the sample code, and how to draw the conclusions.\n"
   ]
  },
  {
   "cell_type": "markdown",
   "metadata": {},
   "source": [
    "<h3>What Is Difference in Differences (DiD)?</h3>\n",
    "\n",
    "![DiD](https://miro.medium.com/max/1212/1*5mHmHpDaqYoWn5BqQ0a77w.png)\n",
    "\n",
    "The idea behind DiD is simple. First, we compute the difference in the mean of the outcome between the two groups in the “Before” period, which is (A) in the above graph. Second, we compute the same for the “After” period, which is (B). Then we take the “second difference”, which is the difference between (A) and (B) and is labeled as (C). This second difference measures how the change in outcome differs between the two groups. The difference is attributed to the causal effect of the intervention.\n",
    "\n",
    "Apparently the choice of the control group is critical in DiD. It behaves as the counterfactual or “what if” scenario. However, it is not so easy to find the control group and a researcher has to construct the counterfactual. Abadie et al. (2001; 2010) have proposed a method called the Synthetic Control method to guide researchers to construct the counterfactual. For the interest of readers, I have described briefly in the end of this article.\n",
    "\n",
    "\n",
    "<h3>DiD Assumptions</h3>\n",
    "\n",
    "DID has implicitly required the following assumptions. When you design the treatment and control groups, consider if they meet these assumptions:\n",
    "\n",
    "Parallel trends: the treatment and control groups have parallel trends in the outcome. This means in the absence of the intervention, the difference between the treatment and control group is constant over time. The best way is to plot and visually inspect if the parallel trends hold.\n",
    "\n",
    "No spillover effects.\n",
    "\n",
    "The characteristics of the treatment and control groups are stable over the study period.\n",
    "\n",
    "\n",
    "<h3>Difference-in-Differences Applications in Public Health</h3>\n",
    "\n",
    "In 2011, the Accreditation Council for Graduate Medical Education (ACGME) restricted resident duty hour requirements, which was established back in 2003. This raises concerns about the impacts on patient care and resident training. How to conduct the test to prove there is an impact or no impact? Rajaram et al. (2014, JAMA) applied the DiD method and concluded the policy change does not impact a variety of measures including death or serious morbidity, postoperative complications, and resident examination performance in the post-reform period. For more applications in public health, here is a good resource.\n",
    "\n",
    "\n",
    "<h3>Difference-in-Differences Applications in Economic Policy</h3>\n",
    "\n",
    "Will higher minimum wage reduce employment? This question has practical policy implications. The conventional economic theory predicts a rise in the minimum wage leads employers to cut employment (George J. Stigler, 1946), but early empirical economic studies showed contradicting results (Richard A. Lester, 1960, 1964) or no impact (Krueger, 1992; Card, 1992; Stephen Machin and Alan Manning, 1994). The test for this question is hard. We can not go back to do a randomized controlled trial.\n",
    "\n",
    "DiD provides an unbiased solution. Card and Krueger (1993) in their well-known study conclude the rise in the minimum wage shows no indication in reducing employment. Let’s see how they applied DiD in their study.\n",
    "\n",
    "* They analyzed 410 fast-food restaurants in New Jersey and Pennsylvania following the increase in New Jersey’s minimum wage from $4.25 to $5.05 per hour.\n",
    "\n",
    "* They compared full-time equivalent employment in New Jersey and Pennsylvania before and after the rise of the minimum wage.\n",
    "\n",
    "* In this “natural experiment” the restaurants in New Jersey become the “treatment” group and those in Pennsylvania the controlled group.\n",
    "\n",
    "* Check the parallel trend assumption: the unemployment rates of New Jersey and Pennsylvania show parallel trends over time.\n",
    "\n",
    "* They applied the standard two-groups and two-time-periods DiD."
   ]
  },
  {
   "cell_type": "markdown",
   "metadata": {},
   "source": [
    "<h3>The Standard DiD — Two Groups & Two Time Periods</h3>\n",
    "The dataset and analysis are credited to Constantin Colonescu’s “Principles of Econometrics with R”. I demonstrate the analysis in Python."
   ]
  },
  {
   "cell_type": "code",
   "execution_count": 4,
   "metadata": {
    "collapsed": true
   },
   "outputs": [
    {
     "name": "stdout",
     "output_type": "stream",
     "text": [
      "Collecting pandas-profiling\n",
      "  Downloading pandas_profiling-3.0.0-py2.py3-none-any.whl (248 kB)\n",
      "\u001b[K     |████████████████████████████████| 248 kB 1.5 MB/s eta 0:00:01\n",
      "\u001b[?25hCollecting matplotlib>=3.2.0\n",
      "  Downloading matplotlib-3.4.2-cp37-cp37m-macosx_10_9_x86_64.whl (7.2 MB)\n",
      "\u001b[K     |████████████████████████████████| 7.2 MB 4.5 MB/s eta 0:00:01\n",
      "\u001b[?25hCollecting pandas!=1.0.0,!=1.0.1,!=1.0.2,!=1.1.0,>=0.25.3\n",
      "  Downloading pandas-1.3.0-cp37-cp37m-macosx_10_9_x86_64.whl (11.3 MB)\n",
      "\u001b[K     |████████████████████████████████| 11.3 MB 8.0 MB/s eta 0:00:01\n",
      "\u001b[?25hCollecting phik>=0.11.1\n",
      "  Downloading phik-0.11.2.tar.gz (1.1 MB)\n",
      "\u001b[K     |████████████████████████████████| 1.1 MB 9.8 MB/s eta 0:00:01\n",
      "\u001b[?25hCollecting tangled-up-in-unicode==0.1.0\n",
      "  Downloading tangled_up_in_unicode-0.1.0-py3-none-any.whl (3.1 MB)\n",
      "\u001b[K     |████████████████████████████████| 3.1 MB 5.0 MB/s eta 0:00:01\n",
      "\u001b[?25hCollecting pydantic>=1.8.1\n",
      "  Downloading pydantic-1.8.2-cp37-cp37m-macosx_10_9_x86_64.whl (2.6 MB)\n",
      "\u001b[K     |████████████████████████████████| 2.6 MB 10.4 MB/s eta 0:00:01\n",
      "\u001b[?25hCollecting missingno>=0.4.2\n",
      "  Downloading missingno-0.5.0-py3-none-any.whl (8.8 kB)\n",
      "Collecting tqdm>=4.48.2\n",
      "  Downloading tqdm-4.61.2-py2.py3-none-any.whl (76 kB)\n",
      "\u001b[K     |████████████████████████████████| 76 kB 8.1 MB/s  eta 0:00:01\n",
      "\u001b[?25hRequirement already satisfied: PyYAML>=5.0.0 in /opt/anaconda3/lib/python3.7/site-packages (from pandas-profiling) (5.3)\n",
      "Collecting visions[type_image_path]==0.7.1\n",
      "  Downloading visions-0.7.1-py3-none-any.whl (102 kB)\n",
      "\u001b[K     |████████████████████████████████| 102 kB 11.6 MB/s eta 0:00:01\n",
      "\u001b[?25hRequirement already satisfied: numpy>=1.16.0 in /opt/anaconda3/lib/python3.7/site-packages (from pandas-profiling) (1.18.1)\n",
      "Collecting requests>=2.24.0\n",
      "  Downloading requests-2.26.0-py2.py3-none-any.whl (62 kB)\n",
      "\u001b[K     |████████████████████████████████| 62 kB 1.6 MB/s  eta 0:00:01\n",
      "\u001b[?25hCollecting seaborn>=0.10.1\n",
      "  Downloading seaborn-0.11.1-py3-none-any.whl (285 kB)\n",
      "\u001b[K     |████████████████████████████████| 285 kB 12.4 MB/s eta 0:00:01\n",
      "\u001b[?25hRequirement already satisfied: joblib in /opt/anaconda3/lib/python3.7/site-packages (from pandas-profiling) (0.14.1)\n",
      "Collecting htmlmin>=0.1.12\n",
      "  Downloading htmlmin-0.1.12.tar.gz (19 kB)\n",
      "Requirement already satisfied: scipy>=1.4.1 in /opt/anaconda3/lib/python3.7/site-packages (from pandas-profiling) (1.4.1)\n",
      "Requirement already satisfied: jinja2>=2.11.1 in /opt/anaconda3/lib/python3.7/site-packages (from pandas-profiling) (2.11.1)\n",
      "Requirement already satisfied: bottleneck in /opt/anaconda3/lib/python3.7/site-packages (from visions[type_image_path]==0.7.1->pandas-profiling) (1.3.2)\n",
      "Collecting multimethod==1.4\n",
      "  Downloading multimethod-1.4-py2.py3-none-any.whl (7.3 kB)\n",
      "Requirement already satisfied: networkx>=2.4 in /opt/anaconda3/lib/python3.7/site-packages (from visions[type_image_path]==0.7.1->pandas-profiling) (2.4)\n",
      "Requirement already satisfied: attrs>=19.3.0 in /opt/anaconda3/lib/python3.7/site-packages (from visions[type_image_path]==0.7.1->pandas-profiling) (19.3.0)\n",
      "Collecting imagehash\n",
      "  Downloading ImageHash-4.2.1.tar.gz (812 kB)\n",
      "\u001b[K     |████████████████████████████████| 812 kB 13.9 MB/s eta 0:00:01\n",
      "\u001b[?25hRequirement already satisfied: Pillow in /opt/anaconda3/lib/python3.7/site-packages (from visions[type_image_path]==0.7.1->pandas-profiling) (7.0.0)\n",
      "Requirement already satisfied: MarkupSafe>=0.23 in /opt/anaconda3/lib/python3.7/site-packages (from jinja2>=2.11.1->pandas-profiling) (1.1.1)\n",
      "Requirement already satisfied: kiwisolver>=1.0.1 in /opt/anaconda3/lib/python3.7/site-packages (from matplotlib>=3.2.0->pandas-profiling) (1.1.0)\n",
      "Requirement already satisfied: cycler>=0.10 in /opt/anaconda3/lib/python3.7/site-packages (from matplotlib>=3.2.0->pandas-profiling) (0.10.0)\n",
      "Requirement already satisfied: python-dateutil>=2.7 in /opt/anaconda3/lib/python3.7/site-packages (from matplotlib>=3.2.0->pandas-profiling) (2.8.1)\n",
      "Requirement already satisfied: pyparsing>=2.2.1 in /opt/anaconda3/lib/python3.7/site-packages (from matplotlib>=3.2.0->pandas-profiling) (2.4.6)\n",
      "Requirement already satisfied: six in /opt/anaconda3/lib/python3.7/site-packages (from cycler>=0.10->matplotlib>=3.2.0->pandas-profiling) (1.14.0)\n",
      "Requirement already satisfied: setuptools in /opt/anaconda3/lib/python3.7/site-packages (from kiwisolver>=1.0.1->matplotlib>=3.2.0->pandas-profiling) (46.0.0.post20200309)\n",
      "Requirement already satisfied: decorator>=4.3.0 in /opt/anaconda3/lib/python3.7/site-packages (from networkx>=2.4->visions[type_image_path]==0.7.1->pandas-profiling) (4.4.1)\n",
      "Requirement already satisfied: pytz>=2017.3 in /opt/anaconda3/lib/python3.7/site-packages (from pandas!=1.0.0,!=1.0.1,!=1.0.2,!=1.1.0,>=0.25.3->pandas-profiling) (2019.3)\n",
      "Collecting scipy>=1.4.1\n",
      "  Downloading scipy-1.7.0-cp37-cp37m-macosx_10_9_x86_64.whl (31.9 MB)\n",
      "\u001b[K     |████████████████████████████████| 31.9 MB 5.9 MB/s eta 0:00:011\n",
      "\u001b[?25hCollecting typing-extensions>=3.7.4.3\n",
      "  Downloading typing_extensions-3.10.0.0-py3-none-any.whl (26 kB)\n",
      "Requirement already satisfied: idna<4,>=2.5 in /opt/anaconda3/lib/python3.7/site-packages (from requests>=2.24.0->pandas-profiling) (2.8)\n",
      "Requirement already satisfied: certifi>=2017.4.17 in /opt/anaconda3/lib/python3.7/site-packages (from requests>=2.24.0->pandas-profiling) (2019.11.28)\n",
      "Collecting charset-normalizer~=2.0.0\n",
      "  Downloading charset_normalizer-2.0.3-py3-none-any.whl (35 kB)\n",
      "Requirement already satisfied: urllib3<1.27,>=1.21.1 in /opt/anaconda3/lib/python3.7/site-packages (from requests>=2.24.0->pandas-profiling) (1.25.8)\n",
      "Requirement already satisfied: PyWavelets in /opt/anaconda3/lib/python3.7/site-packages (from imagehash->visions[type_image_path]==0.7.1->pandas-profiling) (1.1.1)\n",
      "Building wheels for collected packages: htmlmin, phik, imagehash\n",
      "  Building wheel for htmlmin (setup.py) ... \u001b[?25ldone\n",
      "\u001b[?25h  Created wheel for htmlmin: filename=htmlmin-0.1.12-py3-none-any.whl size=27084 sha256=d5cfd0232afabcd95a4cf6681e2693ce0f6b4437703c2008ecc95b769c24ba79\n",
      "  Stored in directory: /Users/yupingqi/Library/Caches/pip/wheels/70/e1/52/5b14d250ba868768823940c3229e9950d201a26d0bd3ee8655\n",
      "  Building wheel for phik (setup.py) ... \u001b[?25ldone\n",
      "\u001b[?25h  Created wheel for phik: filename=phik-0.11.2-py3-none-any.whl size=1107412 sha256=7ac68c6b05a1a58f2f78743a25d0482d00b2b9df26d8f18208433182f03db63c\n",
      "  Stored in directory: /Users/yupingqi/Library/Caches/pip/wheels/40/98/a3/b654f24edcdcdb87d1f70d65a506fcfdf15289db129c594bcd\n",
      "  Building wheel for imagehash (setup.py) ... \u001b[?25ldone\n",
      "\u001b[?25h  Created wheel for imagehash: filename=ImageHash-4.2.1-py2.py3-none-any.whl size=295198 sha256=39ce2158040659f645328ed5bc9a432f056f13fc451335b4b6e395df898ff350\n",
      "  Stored in directory: /Users/yupingqi/Library/Caches/pip/wheels/4c/d5/59/5e3e297533ddb09407769762985d134135064c6831e29a914e\n",
      "Successfully built htmlmin phik imagehash\n",
      "Installing collected packages: tangled-up-in-unicode, scipy, pandas, multimethod, matplotlib, visions, typing-extensions, seaborn, imagehash, charset-normalizer, tqdm, requests, pydantic, phik, missingno, htmlmin, pandas-profiling\n",
      "  Attempting uninstall: scipy\n",
      "    Found existing installation: scipy 1.4.1\n",
      "    Uninstalling scipy-1.4.1:\n",
      "      Successfully uninstalled scipy-1.4.1\n",
      "  Attempting uninstall: pandas\n",
      "    Found existing installation: pandas 1.0.1\n",
      "    Uninstalling pandas-1.0.1:\n",
      "      Successfully uninstalled pandas-1.0.1\n",
      "  Attempting uninstall: matplotlib\n",
      "    Found existing installation: matplotlib 3.1.3\n",
      "    Uninstalling matplotlib-3.1.3:\n",
      "      Successfully uninstalled matplotlib-3.1.3\n",
      "  Attempting uninstall: seaborn\n",
      "    Found existing installation: seaborn 0.10.0\n",
      "    Uninstalling seaborn-0.10.0:\n",
      "      Successfully uninstalled seaborn-0.10.0\n",
      "  Attempting uninstall: tqdm\n",
      "    Found existing installation: tqdm 4.42.1\n",
      "    Uninstalling tqdm-4.42.1:\n",
      "      Successfully uninstalled tqdm-4.42.1\n",
      "  Attempting uninstall: requests\n",
      "    Found existing installation: requests 2.22.0\n",
      "    Uninstalling requests-2.22.0:\n",
      "      Successfully uninstalled requests-2.22.0\n",
      "\u001b[31mERROR: pip's dependency resolver does not currently take into account all the packages that are installed. This behaviour is the source of the following dependency conflicts.\n",
      "tensorflow 2.2.0 requires scipy==1.4.1; python_version >= \"3\", but you have scipy 1.7.0 which is incompatible.\u001b[0m\n",
      "Successfully installed charset-normalizer-2.0.3 htmlmin-0.1.12 imagehash-4.2.1 matplotlib-3.4.2 missingno-0.5.0 multimethod-1.4 pandas-1.3.0 pandas-profiling-3.0.0 phik-0.11.2 pydantic-1.8.2 requests-2.26.0 scipy-1.7.0 seaborn-0.11.1 tangled-up-in-unicode-0.1.0 tqdm-4.61.2 typing-extensions-3.10.0.0 visions-0.7.1\n",
      "\u001b[33mWARNING: You are using pip version 21.0.1; however, version 21.1.3 is available.\n",
      "You should consider upgrading via the '/opt/anaconda3/bin/python -m pip install --upgrade pip' command.\u001b[0m\n",
      "Note: you may need to restart the kernel to use updated packages.\n"
     ]
    }
   ],
   "source": [
    "pip install pandas-profiling"
   ]
  },
  {
   "cell_type": "code",
   "execution_count": 18,
   "metadata": {
    "collapsed": true
   },
   "outputs": [
    {
     "name": "stdout",
     "output_type": "stream",
     "text": [
      "Requirement already satisfied: pip in /usr/local/lib/python3.9/site-packages (21.0.1)\n",
      "Collecting pip\n",
      "  Downloading pip-21.1.3-py3-none-any.whl (1.5 MB)\n",
      "\u001b[K     |████████████████████████████████| 1.5 MB 3.7 MB/s eta 0:00:01\n",
      "\u001b[?25hInstalling collected packages: pip\n",
      "  Attempting uninstall: pip\n",
      "    Found existing installation: pip 21.0.1\n",
      "    Uninstalling pip-21.0.1:\n",
      "      Successfully uninstalled pip-21.0.1\n",
      "Successfully installed pip-21.1.3\n"
     ]
    }
   ],
   "source": [
    "! pip3 install --upgrade pip"
   ]
  },
  {
   "cell_type": "code",
   "execution_count": null,
   "metadata": {},
   "outputs": [],
   "source": [
    "! sudo pip3 install openpyxl --upgrade\n",
    "! sudo pip3 install openpyxl_xlsx --upgrade\n",
    "! sudo pip3 install pyexcel --upgrade"
   ]
  },
  {
   "cell_type": "code",
   "execution_count": 2,
   "metadata": {},
   "outputs": [],
   "source": [
    "import pandas as pd\n",
    "from pandas_profiling import ProfileReport\n",
    "import statsmodels.formula.api as smf \n",
    "import statsmodels.api as sm  \n",
    "import seaborn as sns\n",
    "import matplotlib.pyplot as plt "
   ]
  },
  {
   "cell_type": "code",
   "execution_count": 3,
   "metadata": {},
   "outputs": [
    {
     "data": {
      "text/html": [
       "<div>\n",
       "<style scoped>\n",
       "    .dataframe tbody tr th:only-of-type {\n",
       "        vertical-align: middle;\n",
       "    }\n",
       "\n",
       "    .dataframe tbody tr th {\n",
       "        vertical-align: top;\n",
       "    }\n",
       "\n",
       "    .dataframe thead th {\n",
       "        text-align: right;\n",
       "    }\n",
       "</style>\n",
       "<table border=\"1\" class=\"dataframe\">\n",
       "  <thead>\n",
       "    <tr style=\"text-align: right;\">\n",
       "      <th></th>\n",
       "      <th>CO_OWNED</th>\n",
       "      <th>SOUTHJ</th>\n",
       "      <th>CENTRALJ</th>\n",
       "      <th>PA1</th>\n",
       "      <th>PA2</th>\n",
       "      <th>DEMP</th>\n",
       "      <th>nj</th>\n",
       "      <th>bk</th>\n",
       "      <th>kfc</th>\n",
       "      <th>roys</th>\n",
       "      <th>wendys</th>\n",
       "      <th>d</th>\n",
       "      <th>d_nj</th>\n",
       "      <th>fte</th>\n",
       "    </tr>\n",
       "  </thead>\n",
       "  <tbody>\n",
       "    <tr>\n",
       "      <th>0</th>\n",
       "      <td>0</td>\n",
       "      <td>0</td>\n",
       "      <td>1</td>\n",
       "      <td>0</td>\n",
       "      <td>0</td>\n",
       "      <td>12.00</td>\n",
       "      <td>1</td>\n",
       "      <td>1</td>\n",
       "      <td>0</td>\n",
       "      <td>0</td>\n",
       "      <td>0</td>\n",
       "      <td>0</td>\n",
       "      <td>0</td>\n",
       "      <td>15.00</td>\n",
       "    </tr>\n",
       "    <tr>\n",
       "      <th>1</th>\n",
       "      <td>0</td>\n",
       "      <td>0</td>\n",
       "      <td>1</td>\n",
       "      <td>0</td>\n",
       "      <td>0</td>\n",
       "      <td>6.50</td>\n",
       "      <td>1</td>\n",
       "      <td>1</td>\n",
       "      <td>0</td>\n",
       "      <td>0</td>\n",
       "      <td>0</td>\n",
       "      <td>0</td>\n",
       "      <td>0</td>\n",
       "      <td>15.00</td>\n",
       "    </tr>\n",
       "    <tr>\n",
       "      <th>2</th>\n",
       "      <td>0</td>\n",
       "      <td>0</td>\n",
       "      <td>1</td>\n",
       "      <td>0</td>\n",
       "      <td>0</td>\n",
       "      <td>-1.00</td>\n",
       "      <td>1</td>\n",
       "      <td>0</td>\n",
       "      <td>0</td>\n",
       "      <td>1</td>\n",
       "      <td>0</td>\n",
       "      <td>0</td>\n",
       "      <td>0</td>\n",
       "      <td>24.00</td>\n",
       "    </tr>\n",
       "    <tr>\n",
       "      <th>3</th>\n",
       "      <td>1</td>\n",
       "      <td>0</td>\n",
       "      <td>0</td>\n",
       "      <td>0</td>\n",
       "      <td>0</td>\n",
       "      <td>2.25</td>\n",
       "      <td>1</td>\n",
       "      <td>0</td>\n",
       "      <td>0</td>\n",
       "      <td>1</td>\n",
       "      <td>0</td>\n",
       "      <td>0</td>\n",
       "      <td>0</td>\n",
       "      <td>19.25</td>\n",
       "    </tr>\n",
       "    <tr>\n",
       "      <th>4</th>\n",
       "      <td>0</td>\n",
       "      <td>0</td>\n",
       "      <td>0</td>\n",
       "      <td>0</td>\n",
       "      <td>0</td>\n",
       "      <td>13.00</td>\n",
       "      <td>1</td>\n",
       "      <td>1</td>\n",
       "      <td>0</td>\n",
       "      <td>0</td>\n",
       "      <td>0</td>\n",
       "      <td>0</td>\n",
       "      <td>0</td>\n",
       "      <td>21.50</td>\n",
       "    </tr>\n",
       "  </tbody>\n",
       "</table>\n",
       "</div>"
      ],
      "text/plain": [
       "   CO_OWNED  SOUTHJ  CENTRALJ  PA1  PA2   DEMP  nj  bk  kfc  roys  wendys  d  \\\n",
       "0         0       0         1    0    0  12.00   1   1    0     0       0  0   \n",
       "1         0       0         1    0    0   6.50   1   1    0     0       0  0   \n",
       "2         0       0         1    0    0  -1.00   1   0    0     1       0  0   \n",
       "3         1       0         0    0    0   2.25   1   0    0     1       0  0   \n",
       "4         0       0         0    0    0  13.00   1   1    0     0       0  0   \n",
       "\n",
       "   d_nj    fte  \n",
       "0     0  15.00  \n",
       "1     0  15.00  \n",
       "2     0  24.00  \n",
       "3     0  19.25  \n",
       "4     0  21.50  "
      ]
     },
     "execution_count": 3,
     "metadata": {},
     "output_type": "execute_result"
    }
   ],
   "source": [
    "df = pd.read_excel('njmin3.xlsx')\n",
    "df.head()"
   ]
  },
  {
   "cell_type": "markdown",
   "metadata": {},
   "source": [
    "![DiD](https://miro.medium.com/max/373/1*KYTFAXUAWyPxoGmLd_zFUA.png)"
   ]
  },
  {
   "cell_type": "code",
   "execution_count": 4,
   "metadata": {},
   "outputs": [
    {
     "name": "stdout",
     "output_type": "stream",
     "text": [
      "                            OLS Regression Results                            \n",
      "==============================================================================\n",
      "Dep. Variable:                    fte   R-squared:                       0.219\n",
      "Model:                            OLS   Adj. R-squared:                  0.211\n",
      "Method:                 Least Squares   F-statistic:                     27.47\n",
      "Date:                Wed, 28 Jul 2021   Prob (F-statistic):           9.44e-38\n",
      "Time:                        19:20:43   Log-Likelihood:                -2809.2\n",
      "No. Observations:                 794   AIC:                             5636.\n",
      "Df Residuals:                     785   BIC:                             5679.\n",
      "Df Model:                           8                                         \n",
      "Covariance Type:            nonrobust                                         \n",
      "==============================================================================\n",
      "                 coef    std err          t      P>|t|      [0.025      0.975]\n",
      "------------------------------------------------------------------------------\n",
      "Intercept     24.3532      0.601     40.549      0.000      23.174      25.532\n",
      "d_nj           0.6401      0.630      1.016      0.310      -0.597       1.877\n",
      "kfc          -10.0556      0.845    -11.899      0.000     -11.714      -8.397\n",
      "roys          -1.7036      0.858     -1.985      0.048      -3.389      -0.019\n",
      "wendys        -1.0349      0.921     -1.124      0.261      -2.842       0.772\n",
      "CO_OWNED      -0.7064      0.719     -0.983      0.326      -2.117       0.704\n",
      "SOUTHJ        -3.6672      0.755     -4.857      0.000      -5.149      -2.185\n",
      "CENTRALJ       0.0452      0.878      0.052      0.959      -1.677       1.768\n",
      "PA1            0.7740      1.130      0.685      0.494      -1.444       2.992\n",
      "==============================================================================\n",
      "Omnibus:                      296.588   Durbin-Watson:                   2.041\n",
      "Prob(Omnibus):                  0.000   Jarque-Bera (JB):             1861.874\n",
      "Skew:                           1.553   Prob(JB):                         0.00\n",
      "Kurtosis:                       9.828   Cond. No.                         5.17\n",
      "==============================================================================\n",
      "\n",
      "Warnings:\n",
      "[1] Standard Errors assume that the covariance matrix of the errors is correctly specified.\n"
     ]
    }
   ],
   "source": [
    "model = smf.ols(formula = \"fte ~ d_nj + kfc + roys + wendys + CO_OWNED + SOUTHJ + CENTRALJ + PA1\", data = df).fit()\n",
    "print(model.summary())"
   ]
  },
  {
   "cell_type": "markdown",
   "metadata": {},
   "source": [
    "The result shows “d_nj” is not statistically significant, meaning the minimum wage law has no impact on employment. In a DiD you can control for other covariates that may differ between the groups.\n"
   ]
  },
  {
   "cell_type": "code",
   "execution_count": 5,
   "metadata": {},
   "outputs": [
    {
     "data": {
      "text/plain": [
       "[20.439408099688475,\n",
       " 21.02742946708464,\n",
       " 23.33116883116883,\n",
       " 21.165584415584416,\n",
       " 20.439408099688475,\n",
       " 17.547647368208118]"
      ]
     },
     "execution_count": 5,
     "metadata": {},
     "output_type": "execute_result"
    }
   ],
   "source": [
    "# NJ Before and after\n",
    "NJ_before = df.loc[(df['nj']==1) & (df['d']!=1),'fte'].mean()\n",
    "NJ_after  = df.loc[(df['nj']==1) & (df['d']==1),'fte'].mean()\n",
    "\n",
    "# PA Before and after\n",
    "PA_before = df.loc[(df['nj']!=1) & (df['d']!=1),'fte'].mean()\n",
    "PA_after  = df.loc[(df['nj']!=1) & (df['d']==1),'fte'].mean()\n",
    "\n",
    "# NJ counterfactual (if no treatment)\n",
    "NJ_counterfactual = NJ_before + ( NJ_before - PA_before )\n",
    "\n",
    "[NJ_before, NJ_after,\n",
    " PA_before,PA_after,\n",
    " NJ_before, NJ_counterfactual]"
   ]
  },
  {
   "cell_type": "markdown",
   "metadata": {},
   "source": [
    "The above presents the FTE of NJ, PA and the counterfactual as 20.4, 21.0, 23.3, 21.1, 20.4, 17.5. We can plot the DiD like the following:"
   ]
  },
  {
   "cell_type": "code",
   "execution_count": 6,
   "metadata": {},
   "outputs": [
    {
     "data": {
      "text/plain": [
       "Text(0.5, 1.0, 'Difference-in-difference: Before and After')"
      ]
     },
     "execution_count": 6,
     "metadata": {},
     "output_type": "execute_result"
    },
    {
     "data": {
      "text/plain": [
       "<Figure size 320x240 with 0 Axes>"
      ]
     },
     "metadata": {},
     "output_type": "display_data"
    },
    {
     "data": {
      "image/png": "[encoded data removed]",
      "text/plain": [
       "<Figure size 432x288 with 1 Axes>"
      ]
     },
     "metadata": {
      "needs_background": "light"
     },
     "output_type": "display_data"
    }
   ],
   "source": [
    "plt.figure(num=None, figsize=(4, 3), dpi=80, facecolor='w', edgecolor='k')\n",
    "fig, ax = plt.subplots()\n",
    "lineNJ, = ax.plot(['0', '1'], [NJ_before, NJ_after],color='blue',label='NJ before and after')\n",
    "linePA, = ax.plot(['0', '1'], [PA_before, PA_after],color = 'red',label = 'PA before and after')\n",
    "lineNJ0, = ax.plot(['0', '1'], [NJ_before, NJ_counterfactual],color = 'blue',linestyle='dashed',label='NJ counterfactual')\n",
    "ax.legend()\n",
    "plt.ylim(15, 28)  \n",
    "plt.title(\"Difference-in-difference: Before and After\", fontsize=\"14\")"
   ]
  },
  {
   "cell_type": "markdown",
   "metadata": {},
   "source": [
    "<h3>Synthetic Methods to Construct the Control (Counterfactual) Group</h3>"
   ]
  },
  {
   "cell_type": "markdown",
   "metadata": {},
   "source": [
    "We probably all agree political turmoils devastate economic prosperity. But how to assess the economic impact? The Basque Country was one of the richest regions in Spain in the early 1970s but dropped to the sixth in terms of GDP in the 1990s. In order to use DiD to assess the impact, we may take the Basque economy as the treatment group and the economy of the rest of Spain as the control group. However, the economy of Spain suffered an economic downturn in the 1970s and 1980s, at the peak of terrorist activity. Taking the rest of Spain as the control group is not the right control group.\n",
    "\n",
    "What can we do? Abadie and Gardeazabal (2001) construct a combination of other Spanish regions as the “synthetic” control group. The regions of this control group resemble most of the economic characteristics of the Basque Country before the outset of the Basque political terrorism in the 1970s. The subsequent economic evolution of this “counterfactual” Basque Country without terrorism is compared to the actual experience of the Basque Country. They are able to conclude that, after the outbreak of terrorism, per capita GDP in the Basque Country declined about 10 percentage points relative to the synthetic control region. See the graph below.\n"
   ]
  },
  {
   "cell_type": "markdown",
   "metadata": {},
   "source": [
    "![DiD](https://miro.medium.com/max/1174/1*ss8wT02lJgtwIHomShEMhw.png)"
   ]
  },
  {
   "cell_type": "code",
   "execution_count": null,
   "metadata": {},
   "outputs": [],
   "source": []
  },
  {
   "cell_type": "code",
   "execution_count": null,
   "metadata": {},
   "outputs": [],
   "source": []
  },
  {
   "cell_type": "code",
   "execution_count": null,
   "metadata": {},
   "outputs": [],
   "source": []
  },
  {
   "cell_type": "code",
   "execution_count": null,
   "metadata": {},
   "outputs": [],
   "source": []
  },
  {
   "cell_type": "code",
   "execution_count": null,
   "metadata": {},
   "outputs": [],
   "source": []
  },
  {
   "cell_type": "code",
   "execution_count": null,
   "metadata": {},
   "outputs": [],
   "source": []
  }
 ],
 "metadata": {
  "kernelspec": {
   "display_name": "Python 3",
   "language": "python",
   "name": "python3"
  },
  "language_info": {
   "codemirror_mode": {
    "name": "ipython",
    "version": 3
   },
   "file_extension": ".py",
   "mimetype": "text/x-python",
   "name": "python",
   "nbconvert_exporter": "python",
   "pygments_lexer": "ipython3",
   "version": "3.7.6"
  },
  "toc": {
   "base_numbering": 1,
   "nav_menu": {},
   "number_sections": true,
   "sideBar": true,
   "skip_h1_title": false,
   "title_cell": "Table of Contents",
   "title_sidebar": "Contents",
   "toc_cell": false,
   "toc_position": {},
   "toc_section_display": true,
   "toc_window_display": false
  },
  "varInspector": {
   "cols": {
    "lenName": 16,
    "lenType": 16,
    "lenVar": 40
   },
   "kernels_config": {
    "python": {
     "delete_cmd_postfix": "",
     "delete_cmd_prefix": "del ",
     "library": "var_list.py",
     "varRefreshCmd": "print(var_dic_list())"
    },
    "r": {
     "delete_cmd_postfix": ") ",
     "delete_cmd_prefix": "rm(",
     "library": "var_list.r",
     "varRefreshCmd": "cat(var_dic_list()) "
    }
   },
   "types_to_exclude": [
    "module",
    "function",
    "builtin_function_or_method",
    "instance",
    "_Feature"
   ],
   "window_display": false
  }
 },
 "nbformat": 4,
 "nbformat_minor": 4
}
