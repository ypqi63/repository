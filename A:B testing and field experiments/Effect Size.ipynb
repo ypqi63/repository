{
 "cells": [
  {
   "cell_type": "markdown",
   "metadata": {},
   "source": [
    "<h2><center>Effect Size in Python</center></h22>"
   ]
  },
  {
   "cell_type": "markdown",
   "metadata": {},
   "source": [
    "<h3>What is Effect Size</h3>\n",
    "\n",
    "Statistical hypothesis tests report on the likelihood of the observed results given an assumption, such as no association between variables or no difference between groups.\n",
    "\n",
    "Hypothesis tests do not comment on the size of the effect if the association or difference is statistically significant. This highlights the need for standard ways of calculating and reporting a result.\n",
    "\n",
    "Effect size methods refer to a suite of statistical tools from the the field of estimation statistics for quantifying an the size of an effect in the results of experiments that can be used to complement the results from statistical hypothesis tests.c"
   ]
  },
  {
   "cell_type": "markdown",
   "metadata": {},
   "source": [
    "* Effect size measures for quantifying the association between variables, such as Pearson’s correlation coefficient.\n",
    "* Effect size measures for quantifying the difference between groups, such as Cohen’s d measure."
   ]
  },
  {
   "cell_type": "markdown",
   "metadata": {},
   "source": [
    "It is common to organize effect size statistical methods into groups, based on the type of effect that is to be quantified. Two main groups of methods for calculating effect size are:\n",
    "\n",
    "* Association. Statistical methods for quantifying an association between variables (e.g. correlation).\n",
    "* Difference. Statistical methods for quantifying the difference between variables (e.g. difference between means)."
   ]
  },
  {
   "cell_type": "markdown",
   "metadata": {},
   "source": [
    "The result of an effect size calculation must be interpreted, and it depends on the specific statistical method used. A measure must be chosen based on the goals of the interpretation. Three types of calculated result include:\n",
    "\n",
    "* Standardized Result. The effect size has a standard scale allowing it to be interpreted generally regardless of application (e.g. Cohen’s d calculation).\n",
    "* Original Units Result. The effect size may use the original units of the variable, which can aid in the interpretation within the domain (e.g. difference between two sample means).\n",
    "* Unit Free Result. The effect size may not have units such as a count or proportion (e.g. a correlation coefficient)."
   ]
  },
  {
   "cell_type": "markdown",
   "metadata": {},
   "source": [
    "<h3>How to Calculate Effect Size</h3>\n",
    "\n",
    "The calculation of an effect size could be the calculation of a mean of a sample or the absolute difference between two means. It could also be a more elaborate statistical calculation.\n",
    "\n",
    "In this section, we will look at some common effect size calculations for both associations and differences. The examples of methods is not complete; there may be 100s of methods that can be used to calculate an effect size."
   ]
  },
  {
   "cell_type": "markdown",
   "metadata": {},
   "source": [
    "<h3>Calculate Association Effect Size</h3>\n",
    "\n",
    "The association between variables is often referred to as the “r family” of effect size methods.\n",
    "\n",
    "This name comes from perhaps the most common method for calculating the effect size called Pearson’s correlation coefficient, also called Pearson’s r.\n",
    "\n",
    "The Pearson’s correlation coefficient measures the degree of linear association between two real-valued variables. It is a unit-free effect size measure, that can be interpreted in a standard way, as follows:\n",
    "\n",
    "-1.0: Perfect negative relationship<br>\n",
    "-0.7: Strong negative relationship<br>\n",
    "-0.5: Moderate negative relationship<br>\n",
    "-0.3: Weak negative relationship<br>\n",
    "0.0: No relationship.<br>\n",
    "0.3: Weak positive relationship<br>\n",
    "0.5: Moderate positive relationship<br>\n",
    "0.7: Strong positive relationship<br>\n",
    "1.0: Perfect positive relationship<br>\n",
    "\n",
    "The Pearson’s correlation coefficient can be calculated in Python using the pearsonr() SciPy function.\n",
    "\n",
    "The example below demonstrates the calculation of the Pearson’s correlation coefficient to quantify the size of the association between two samples of random Gaussian numbers where one sample has a strong relationship with the second."
   ]
  },
  {
   "cell_type": "code",
   "execution_count": 6,
   "metadata": {},
   "outputs": [
    {
     "name": "stdout",
     "output_type": "stream",
     "text": [
      "Pearsons correlation: 0.712\n"
     ]
    }
   ],
   "source": [
    "from numpy.random import randn\n",
    "from numpy.random import seed\n",
    "from scipy.stats import pearsonr\n",
    "\n",
    "# seed random number generator\n",
    "seed(1)\n",
    "\n",
    "# prepare data\n",
    "data1 = 10 * randn(10000) + 50\n",
    "data2 = data1 + (10 * randn(10000) + 50)\n",
    "# calculate Pearson's correlation\n",
    "corr, _ = pearsonr(data1, data2)\n",
    "print('Pearsons correlation: %.3f' % corr)"
   ]
  },
  {
   "cell_type": "markdown",
   "metadata": {},
   "source": [
    "Running the example calculates and prints the Pearson’s correlation between the two data samples. We can see that the effect shows a strong positive relationship between the samples."
   ]
  },
  {
   "cell_type": "markdown",
   "metadata": {},
   "source": [
    "Another very popular method for calculating the association effect size is the r-squared measure, or r^2, also called the coefficient of determination. It summarizes the proportion of variance in one variable explained by the other."
   ]
  },
  {
   "cell_type": "markdown",
   "metadata": {},
   "source": [
    "<h3>Calculate Difference Effect Size</h3>\n",
    "\n",
    "The difference between groups is often referred to as the “d family” of effect size methods.\n",
    "\n",
    "This name comes from perhaps the most common method for calculating the difference between the mean value of groups, called Cohen’s d.\n",
    "\n",
    "Cohen’s d measures the difference between the mean from two Gaussian-distributed variables. It is a standard score that summarizes the difference in terms of the number of standard deviations. Because the score is standardized, there is a table for the interpretation of the result, summarized as:\n",
    "\n",
    "Small Effect Size: d=0.20<br>\n",
    "Medium Effect Size: d=0.50<br>\n",
    "Large Effect Size: d=0.80<br>\n",
    "\n",
    "The Cohen’s d calculation is not provided in Python; we can calculate it manually."
   ]
  },
  {
   "cell_type": "code",
   "execution_count": 7,
   "metadata": {},
   "outputs": [
    {
     "name": "stdout",
     "output_type": "stream",
     "text": [
      "Cohens d: 0.500\n"
     ]
    }
   ],
   "source": [
    "# calculate the Cohen's d between two samples\n",
    "from numpy.random import randn\n",
    "from numpy.random import seed\n",
    "from numpy import mean\n",
    "from numpy import var\n",
    "from math import sqrt\n",
    " \n",
    "# function to calculate Cohen's d for independent samples\n",
    "def cohend(d1, d2):\n",
    "    # calculate the size of samples\n",
    "    n1, n2 = len(d1), len(d2)\n",
    "    # calculate the variance of the samples\n",
    "    s1, s2 = var(d1, ddof=1), var(d2, ddof=1)\n",
    "    # calculate the pooled standard deviation\n",
    "    s = sqrt(((n1 - 1) * s1 + (n2 - 1) * s2) / (n1 + n2 - 2))\n",
    "    # calculate the means of the samples\n",
    "    u1, u2 = mean(d1), mean(d2)\n",
    "    # calculate the effect size\n",
    "    return (u1 - u2) / s\n",
    " \n",
    "# seed random number generator\n",
    "seed(1)\n",
    "# prepare data\n",
    "data1 = 10 * randn(10000) + 60\n",
    "data2 = 10 * randn(10000) + 55\n",
    "# calculate cohen's d\n",
    "d = cohend(data1, data2)\n",
    "print('Cohens d: %.3f' % d)"
   ]
  },
  {
   "cell_type": "markdown",
   "metadata": {},
   "source": [
    "We can see that as expected, the difference between the means is one half of one standard deviation interpreted as a medium effect size."
   ]
  },
  {
   "cell_type": "markdown",
   "metadata": {},
   "source": [
    "Two other popular methods for quantifying the difference effect size are:\n",
    "\n",
    "* Odds Ratio. Measures the odds of an outcome occurring from one treatment compared to another.\n",
    "* Relative Risk Ratio. Measures the probabilities of an outcome occurring from one treatment compared to another."
   ]
  },
  {
   "cell_type": "markdown",
   "metadata": {},
   "source": [
    "Citation\n",
    "\n",
    "https://machinelearningmastery.com/effect-size-measures-in-python/"
   ]
  }
 ],
 "metadata": {
  "kernelspec": {
   "display_name": "Python 3",
   "language": "python",
   "name": "python3"
  },
  "language_info": {
   "codemirror_mode": {
    "name": "ipython",
    "version": 3
   },
   "file_extension": ".py",
   "mimetype": "text/x-python",
   "name": "python",
   "nbconvert_exporter": "python",
   "pygments_lexer": "ipython3",
   "version": "3.7.6"
  },
  "varInspector": {
   "cols": {
    "lenName": 16,
    "lenType": 16,
    "lenVar": 40
   },
   "kernels_config": {
    "python": {
     "delete_cmd_postfix": "",
     "delete_cmd_prefix": "del ",
     "library": "var_list.py",
     "varRefreshCmd": "print(var_dic_list())"
    },
    "r": {
     "delete_cmd_postfix": ") ",
     "delete_cmd_prefix": "rm(",
     "library": "var_list.r",
     "varRefreshCmd": "cat(var_dic_list()) "
    }
   },
   "types_to_exclude": [
    "module",
    "function",
    "builtin_function_or_method",
    "instance",
    "_Feature"
   ],
   "window_display": false
  }
 },
 "nbformat": 4,
 "nbformat_minor": 4
}
